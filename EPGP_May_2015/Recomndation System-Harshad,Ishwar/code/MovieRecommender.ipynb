{
 "cells": [
  {
   "cell_type": "markdown",
   "metadata": {},
   "source": [
    "### To see how well this recommeder works, I have rated some movies which are listed below"
   ]
  },
  {
   "cell_type": "markdown",
   "metadata": {},
   "source": [
    "#### New user ID '944' created for myself in 'u.user' file."
   ]
  },
  {
   "cell_type": "raw",
   "metadata": {},
   "source": [
    "MovieID, MovieName\n",
    "69, Forrest Gump\n",
    "318, Schindler's List\n",
    "127, The Godfather\n",
    "405, Mission Impossible\n",
    "98, The silence of the lambs\n",
    "273, Heat\n",
    "182, Goodfellas\n",
    "177, The good the bad and the ugly\n",
    "\n",
    "These movies are rated in following manner in 'u.data' file\n",
    "\n",
    "UerID       MovieID       Rating          Timestamp\n",
    "944\t        69\t              5\t          877137285\n",
    "944\t        318\t              5\t          877137290\n",
    "944\t        127\t              5\t          877137295\n",
    "944\t        405\t              4\t          877137300\n",
    "944\t        98\t              4\t          877137310\n",
    "944\t        273\t              5\t          877137216\n",
    "944\t        182\t              5\t          877137223\n",
    "944\t        177               5\t          877137230"
   ]
  },
  {
   "cell_type": "code",
   "execution_count": 23,
   "metadata": {
    "collapsed": false
   },
   "outputs": [],
   "source": [
    "import recommender"
   ]
  },
  {
   "cell_type": "code",
   "execution_count": 24,
   "metadata": {
    "collapsed": true
   },
   "outputs": [],
   "source": [
    "r = recommender.recommender(0)"
   ]
  },
  {
   "cell_type": "code",
   "execution_count": 25,
   "metadata": {
    "collapsed": false
   },
   "outputs": [
    {
     "name": "stdout",
     "output_type": "stream",
     "text": [
      "102634\n"
     ]
    }
   ],
   "source": [
    "r.loadMovieLens('/home/osboxes/Desktop/Capstone/ml-100k/')"
   ]
  },
  {
   "cell_type": "code",
   "execution_count": 27,
   "metadata": {
    "collapsed": false
   },
   "outputs": [
    {
     "name": "stdout",
     "output_type": "stream",
     "text": [
      "Schindler's List (1993)\t5\n",
      "GoodFellas (1990)\t5\n",
      "Heat (1995)\t5\n",
      "Godfather, The (1972)\t5\n",
      "Good, The Bad and The Ugly, The (1966)\t5\n"
     ]
    }
   ],
   "source": [
    "r.showUserTopItems('944', 5)"
   ]
  },
  {
   "cell_type": "code",
   "execution_count": 29,
   "metadata": {
    "collapsed": true
   },
   "outputs": [],
   "source": [
    "r.computeDeviations()"
   ]
  },
  {
   "cell_type": "markdown",
   "metadata": {},
   "source": [
    "### Based on the below recommendations, it did recommend correct movies for me. Some of them are already my favourites but were not rated by me!"
   ]
  },
  {
   "cell_type": "code",
   "execution_count": 30,
   "metadata": {
    "collapsed": false
   },
   "outputs": [
    {
     "data": {
      "text/plain": [
       "[(u'Santa with Muscles (1996)', 6.6),\n",
       " (u\"Someone Else's America (1995)\", 6.5),\n",
       " (u'Aiqing wansui (1994)', 6.428571428571429),\n",
       " (u'Boys, Les (1997)', 6.285714285714286),\n",
       " (u'Little City (1998)', 6.166666666666667),\n",
       " (u'Marlene Dietrich: Shadow and Light (1996)', 6.142857142857143),\n",
       " (u'Saint of Fort Washington, The (1993)', 6.1),\n",
       " (u'Window to Paris (1994)', 6.0),\n",
       " (u'Farmer & Chase (1995)', 6.0),\n",
       " (u'Great Day in Harlem, A (1994)', 5.875),\n",
       " (u'Kaspar Hauser (1993)', 5.678571428571429),\n",
       " (u'Faust (1994)', 5.5625),\n",
       " (u'Pather Panchali (1955)', 5.529411764705882),\n",
       " (u'Object of My Affection, The (1998)', 5.5),\n",
       " (u'He Walked by Night (1948)', 5.428571428571429),\n",
       " (u'Anna (1996)', 5.384615384615385),\n",
       " (u'Prefontaine (1997)', 5.352941176470588),\n",
       " (u'They Made Me a Criminal (1939)', 5.333333333333333),\n",
       " (u'Close Shave, A (1995)', 5.286396181384248),\n",
       " (u'Lady of Burlesque (1943)', 5.285714285714286),\n",
       " (u'Damsel in Distress, A (1937)', 5.285714285714286),\n",
       " (u'Wings of Courage (1995)', 5.285714285714286),\n",
       " (u'Wallace & Gromit: The Best of Aardman Animation (1996)',\n",
       "  5.2795275590551185),\n",
       " (u'Stonewall (1995)', 5.277777777777778),\n",
       " (u'Wrong Trousers, The (1993)', 5.276507276507276),\n",
       " (u'Wife, The (1995)', 5.2),\n",
       " (u'Maya Lin: A Strong Clear Vision (1994)', 5.2),\n",
       " (u'Crossfire (1947)', 5.1875),\n",
       " (u'Casablanca (1942)', 5.166037735849057),\n",
       " (u'Shawshank Redemption, The (1994)', 5.147744945567652),\n",
       " (u'Angel Baby (1995)', 5.142857142857143),\n",
       " (u'Rear Window (1954)', 5.118055555555555),\n",
       " (u'Fille seule, La (A Single Girl) (1995)', 5.117647058823529),\n",
       " (u'Mina Tannenbaum (1994)', 5.111111111111111),\n",
       " (u'N\\xe9nette et Boni (1996)', 5.090909090909091),\n",
       " (u'My Man Godfrey (1936)', 5.086330935251799),\n",
       " (u'Colonel Chabert, Le (1994)', 5.076923076923077),\n",
       " (u'Sweet Hereafter, The (1997)', 5.076923076923077),\n",
       " (u'Wonderful, Horrible Life of Leni Riefenstahl, The (1993)',\n",
       "  5.071428571428571),\n",
       " (u'Star Wars (1977)', 5.0677212061295105),\n",
       " (u'Good Will Hunting (1997)', 5.063618290258449),\n",
       " (u'Usual Suspects, The (1995)', 5.063055780113177),\n",
       " (u'12 Angry Men (1957)', 5.0625),\n",
       " (u'Horseman on the Roof, The (Hussard sur le toit, Le) (1995)',\n",
       "  5.057142857142857),\n",
       " (u'As Good As It Gets (1997)', 5.053291536050157),\n",
       " (u'Dr. Strangelove or: How I Learned to Stop Worrying and Love the Bomb (1963)',\n",
       "  5.0517435320584925),\n",
       " (u'Lawrence of Arabia (1962)', 5.044642857142857),\n",
       " (u'Two or Three Things I Know About Her (1966)', 5.041666666666667),\n",
       " (u\"One Flew Over the Cuckoo's Nest (1975)\", 5.039462636439967),\n",
       " (u'Secrets & Lies (1996)', 5.026871401151632)]"
      ]
     },
     "execution_count": 30,
     "metadata": {},
     "output_type": "execute_result"
    }
   ],
   "source": [
    "r.slopeOneRecommendations(r.data['944'])"
   ]
  }
 ],
 "metadata": {
  "kernelspec": {
   "display_name": "Python 2",
   "language": "python",
   "name": "python2"
  },
  "language_info": {
   "codemirror_mode": {
    "name": "ipython",
    "version": 2
   },
   "file_extension": ".py",
   "mimetype": "text/x-python",
   "name": "python",
   "nbconvert_exporter": "python",
   "pygments_lexer": "ipython2",
   "version": "2.7.11"
  }
 },
 "nbformat": 4,
 "nbformat_minor": 0
}
