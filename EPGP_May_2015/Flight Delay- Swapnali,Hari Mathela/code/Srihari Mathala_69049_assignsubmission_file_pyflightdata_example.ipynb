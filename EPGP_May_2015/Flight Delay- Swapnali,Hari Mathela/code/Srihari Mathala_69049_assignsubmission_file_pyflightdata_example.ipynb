{
 "cells": [
  {
   "cell_type": "markdown",
   "metadata": {},
   "source": [
    "Introduction\n",
    "============\n",
    "\n",
    "This notebook will show you how to use the pyflightdata API to get data about aircraft.\n",
    "At the moment the API makes use of http://flightradar24.com to get the data. As we grow the API we will add more data sources. All the data is fetched with HTTP calls made using requests API, so you need an internet connection for this to work.\n",
    "\n",
    "So lets get started!"
   ]
  },
  {
   "cell_type": "code",
   "execution_count": 1,
   "metadata": {
    "collapsed": false
   },
   "outputs": [],
   "source": [
    "from pyflightdata import *"
   ]
  },
  {
   "cell_type": "markdown",
   "metadata": {},
   "source": [
    "Countries and Airports\n",
    "======================\n",
    "\n",
    "This part of the API is still a stub - you can only get data about all the countries that have airports (recorded on http://flighradar24.com ) and get a list of airports in that country along with the IATA codes. In future this will be expanded to get more detailed information about each airport and also a way to fetch IATA code for the aiport by name."
   ]
  },
  {
   "cell_type": "code",
   "execution_count": 2,
   "metadata": {
    "collapsed": false
   },
   "outputs": [
    {
     "name": "stdout",
     "output_type": "stream",
     "text": [
      "['Albania', 'Algeria', 'Angola', 'Antigua And Barbuda']\n"
     ]
    }
   ],
   "source": [
    "countries = get_countries()\n",
    "print countries[1:5]"
   ]
  },
  {
   "cell_type": "code",
   "execution_count": 33,
   "metadata": {
    "collapsed": false
   },
   "outputs": [
    {
     "name": "stdout",
     "output_type": "stream",
     "text": [
      "[(u'Ahmedabad / Ahmedabad Sardar Vallabhbhai Patel International Airport', 'AMD'), (u'Amritsar / Amritsar International Airport', 'ATQ'), (u'Bhubaneswar / Bhubaneswar Biju Patnaik International Airport', 'BBI'), (u'Bangalore / Bangalore Kempegowda International Airport', 'BLR'), (u'Mumbai / Mumbai Chhatrapati Shivaji International Airport', 'BOM'), (u'Kozhikode / Kozhikode Calicut International Airport', 'CCJ'), (u'Kolkata / Kolkata International Airport', 'CCU'), (u'Coimbatore / Coimbatore International Airport', 'CJB'), (u'Cochin / Cochin International Airport', 'COK'), (u'Delhi / Delhi Indira Gandhi International Airport', 'DEL'), (u'Guwahati / Guwahati International Airport', 'GAU'), (u'Goa / Goa International Airport', 'GOI'), (u'Hyderabad / Hyderabad Rajiv Gandhi International Airport', 'HYD'), (u'Indore / Indore Devi Ahilyabai Holkar Airport', 'IDR'), (u'Imphal / Imphal Airport', 'IMF'), (u'Agartala / Agartala Airport', 'IXA'), (u'Siliguri / Siliguri Bagdogra Airport', 'IXB'), (u'Chandigarh / Chandigarh Airport', 'IXC'), (u'Mangalore / Mangalore Airport', 'IXE'), (u'Jammu / Jammu Airport', 'IXJ'), (u'Madurai / Madurai Airport', 'IXM'), (u'Jaipur / Jaipur Airport', 'JAI'), (u'Lucknow / Lucknow Chaudhary Charan Singh Airport', 'LKO'), (u'Chennai / Chennai International Airport', 'MAA'), (u'Nagpur / Nagpur Dr. Babasaheb Ambedkar International Airport', 'NAG'), (u'Pune / Pune Airport', 'PNQ'), (u'Raipur / Raipur Swami Vivekananda Airport', 'RPR'), (u'Thiruvananthapuram / Trivandrum International Airport', 'TRV'), (u'Tiruchirapalli / Tiruchirappalli International Airport', 'TRZ'), (u'Udaipur / Udaipur Maharana Pratap Airport', 'UDR'), (u'Vijayawada / Vijayawada Airport', 'VGA'), (u'Visakhapatnam / Visakhapatnam Airport', 'VTZ')]\n"
     ]
    }
   ],
   "source": [
    "airports = get_airports('India')\n",
    "print airports"
   ]
  },
  {
   "cell_type": "code",
   "execution_count": 4,
   "metadata": {
    "collapsed": false
   },
   "outputs": [
    {
     "name": "stdout",
     "output_type": "stream",
     "text": [
      "[(u'St. Gallen / St. Gallen Altenrhein Airport', 'ACH'), (u'Bern / Bern Airport', 'BRN'), (u'Geneva / Geneva International Airport', 'GVA'), (u'Lugano / Lugano Airport', 'LUG'), (u'Zurich / Zurich Airport', 'ZRH')]\n"
     ]
    }
   ],
   "source": [
    "airports = get_airports('Switzerland')\n",
    "print airports"
   ]
  },
  {
   "cell_type": "code",
   "execution_count": 5,
   "metadata": {
    "collapsed": false
   },
   "outputs": [
    {
     "name": "stdout",
     "output_type": "stream",
     "text": [
      "St. Gallen / St. Gallen Altenrhein Airport\n",
      "ACH\n"
     ]
    }
   ],
   "source": [
    "name, code = airports[0]\n",
    "print name\n",
    "print code"
   ]
  },
  {
   "cell_type": "markdown",
   "metadata": {},
   "source": [
    "Getting aircraft data\n",
    "=====================\n",
    "\n",
    "Getting into more serious usage, lets say you took a flight and wanted to know more about the aircraft itself, how can you find out?\n",
    "\n",
    "This is how you get the technical information about an aircraft - it provides 3 image URL's and some basic technical information. In future we will add ways to get more detailed information about the airframe"
   ]
  },
  {
   "cell_type": "code",
   "execution_count": 6,
   "metadata": {
    "collapsed": false
   },
   "outputs": [
    {
     "name": "stdout",
     "output_type": "stream",
     "text": [
      "{'ModeS': u'8004DF', 'Type code': u'B77W', 'Registration': u'VT-ALQ', 'images': ['http://img.planespotters.net/photo/424000/thumbnail/PlanespottersNet_424170.jpg', 'http://img.planespotters.net/photo/356000/thumbnail/PlanespottersNet_356812.jpg', 'http://img.planespotters.net/photo/347000/thumbnail/PlanespottersNet_347408.jpg'], 'Airline': u'Air India', 'Type': u'Boeing 777-337ER', 'S/N': u'36315'}\n"
     ]
    }
   ],
   "source": [
    "data = get_info_by_tail_number('VT-ALQ')\n",
    "print data"
   ]
  },
  {
   "cell_type": "markdown",
   "metadata": {},
   "source": [
    "\n",
    "\n",
    "Let's try to make this look better\n",
    "\n"
   ]
  },
  {
   "cell_type": "code",
   "execution_count": 7,
   "metadata": {
    "collapsed": false
   },
   "outputs": [
    {
     "name": "stdout",
     "output_type": "stream",
     "text": [
      "ModeS\t:\t8004DF\n",
      "Type code\t:\tB77W\n",
      "Registration\t:\tVT-ALQ\n",
      "Airline\t:\tAir India\n",
      "Type\t:\tBoeing 777-337ER\n",
      "S/N\t:\t36315\n"
     ]
    }
   ],
   "source": [
    "from IPython.display import Image\n",
    "for key,value in data.items():\n",
    "    if key!='images':\n",
    "        print key + \"\\t:\\t\" + value \n"
   ]
  },
  {
   "cell_type": "code",
   "execution_count": 30,
   "metadata": {
    "collapsed": false
   },
   "outputs": [
    {
     "data": {
      "text/html": [
       "<img src=\"http://img.planespotters.net/photo/424000/thumbnail/PlanespottersNet_424170.jpg\"/>"
      ],
      "text/plain": [
       "<IPython.core.display.Image object>"
      ]
     },
     "execution_count": 30,
     "metadata": {},
     "output_type": "execute_result"
    }
   ],
   "source": [
    "Image(url=data['images'][0])"
   ]
  },
  {
   "cell_type": "code",
   "execution_count": 31,
   "metadata": {
    "collapsed": false
   },
   "outputs": [
    {
     "data": {
      "text/html": [
       "<img src=\"http://img.planespotters.net/photo/356000/thumbnail/PlanespottersNet_356812.jpg\"/>"
      ],
      "text/plain": [
       "<IPython.core.display.Image object>"
      ]
     },
     "execution_count": 31,
     "metadata": {},
     "output_type": "execute_result"
    }
   ],
   "source": [
    "Image(url=data['images'][1])"
   ]
  },
  {
   "cell_type": "code",
   "execution_count": 32,
   "metadata": {
    "collapsed": false
   },
   "outputs": [
    {
     "data": {
      "text/html": [
       "<img src=\"http://img.planespotters.net/photo/347000/thumbnail/PlanespottersNet_347408.jpg\"/>"
      ],
      "text/plain": [
       "<IPython.core.display.Image object>"
      ]
     },
     "execution_count": 32,
     "metadata": {},
     "output_type": "execute_result"
    }
   ],
   "source": [
    "Image(url=data['images'][2])"
   ]
  },
  {
   "cell_type": "markdown",
   "metadata": {},
   "source": [
    "Getting flight history\n",
    "=====================\n",
    "\n",
    "You can get the flight history using either the flight number (eg. 9W15 ) or the flight tail number (e.g VT-JBQ).\n",
    "\n",
    "Flight history by flight number has more records and shows the tail number for each flight, while the history by tail number shows the routes flown by that particular aircraft. This is useful if you want to know were the aircraft came from before your flight.\n",
    "\n",
    "The history also shows departure (actual and scheduled) and arrival times (scheduled) and also flight status.\n",
    "\n",
    "Please note that the string data is encoded as 'unicode-escape'"
   ]
  },
  {
   "cell_type": "code",
   "execution_count": 11,
   "metadata": {
    "collapsed": false
   },
   "outputs": [],
   "source": [
    "import pandas\n",
    "\n",
    "hist_by_flt = get_history_by_flight_number('AI101')"
   ]
  },
  {
   "cell_type": "code",
   "execution_count": 12,
   "metadata": {
    "collapsed": false
   },
   "outputs": [],
   "source": [
    "df = pandas.DataFrame(hist_by_flt)"
   ]
  },
  {
   "cell_type": "code",
   "execution_count": 13,
   "metadata": {
    "collapsed": false
   },
   "outputs": [
    {
     "data": {
      "text/html": [
       "<div style=\"max-height:1000px;max-width:1500px;overflow:auto;\">\n",
       "<table border=\"1\" class=\"dataframe\">\n",
       "  <thead>\n",
       "    <tr style=\"text-align: right;\">\n",
       "      <th></th>\n",
       "      <th>aircraft</th>\n",
       "      <th>atd</th>\n",
       "      <th>class</th>\n",
       "      <th>data-date</th>\n",
       "      <th>data-flight</th>\n",
       "      <th>data-flight-number</th>\n",
       "      <th>data-lat-from</th>\n",
       "      <th>data-lat-to</th>\n",
       "      <th>data-lon-from</th>\n",
       "      <th>data-lon-to</th>\n",
       "      <th>...</th>\n",
       "      <th>data-name-to</th>\n",
       "      <th>date</th>\n",
       "      <th>from</th>\n",
       "      <th>from_code</th>\n",
       "      <th>id</th>\n",
       "      <th>sta</th>\n",
       "      <th>status</th>\n",
       "      <th>std</th>\n",
       "      <th>to</th>\n",
       "      <th>to_code</th>\n",
       "    </tr>\n",
       "  </thead>\n",
       "  <tbody>\n",
       "    <tr>\n",
       "      <th>0</th>\n",
       "      <td> -</td>\n",
       "      <td> -</td>\n",
       "      <td> [future, ]</td>\n",
       "      <td> 2014-11-18</td>\n",
       "      <td> </td>\n",
       "      <td> AI101</td>\n",
       "      <td> 19.08868</td>\n",
       "      <td>   28.5665</td>\n",
       "      <td> 72.867912</td>\n",
       "      <td> 77.103081</td>\n",
       "      <td>...</td>\n",
       "      <td>      Delhi Indira Gandhi International Airport</td>\n",
       "      <td> 2014-11-18</td>\n",
       "      <td> Mumbai</td>\n",
       "      <td> BOM</td>\n",
       "      <td> NaN</td>\n",
       "      <td> 18:15</td>\n",
       "      <td> Scheduled</td>\n",
       "      <td> 16:00</td>\n",
       "      <td>    Delhi</td>\n",
       "      <td> DEL</td>\n",
       "    </tr>\n",
       "    <tr>\n",
       "      <th>1</th>\n",
       "      <td> -</td>\n",
       "      <td> -</td>\n",
       "      <td> [future, ]</td>\n",
       "      <td> 2014-11-17</td>\n",
       "      <td> </td>\n",
       "      <td> AI101</td>\n",
       "      <td>  28.5665</td>\n",
       "      <td> 40.639751</td>\n",
       "      <td> 77.103081</td>\n",
       "      <td>  -73.7789</td>\n",
       "      <td>...</td>\n",
       "      <td> New York John F. Kennedy International Airport</td>\n",
       "      <td> 2014-11-17</td>\n",
       "      <td>  Delhi</td>\n",
       "      <td> DEL</td>\n",
       "      <td> NaN</td>\n",
       "      <td> 11:35</td>\n",
       "      <td> Scheduled</td>\n",
       "      <td> 20:05</td>\n",
       "      <td> New York</td>\n",
       "      <td> JFK</td>\n",
       "    </tr>\n",
       "    <tr>\n",
       "      <th>2</th>\n",
       "      <td> -</td>\n",
       "      <td> -</td>\n",
       "      <td> [future, ]</td>\n",
       "      <td> 2014-11-17</td>\n",
       "      <td> </td>\n",
       "      <td> AI101</td>\n",
       "      <td> 19.08868</td>\n",
       "      <td>   28.5665</td>\n",
       "      <td> 72.867912</td>\n",
       "      <td> 77.103081</td>\n",
       "      <td>...</td>\n",
       "      <td>      Delhi Indira Gandhi International Airport</td>\n",
       "      <td> 2014-11-17</td>\n",
       "      <td> Mumbai</td>\n",
       "      <td> BOM</td>\n",
       "      <td> NaN</td>\n",
       "      <td> 18:15</td>\n",
       "      <td> Scheduled</td>\n",
       "      <td> 16:00</td>\n",
       "      <td>    Delhi</td>\n",
       "      <td> DEL</td>\n",
       "    </tr>\n",
       "    <tr>\n",
       "      <th>3</th>\n",
       "      <td> -</td>\n",
       "      <td> -</td>\n",
       "      <td> [future, ]</td>\n",
       "      <td> 2014-11-16</td>\n",
       "      <td> </td>\n",
       "      <td> AI101</td>\n",
       "      <td>  28.5665</td>\n",
       "      <td> 40.639751</td>\n",
       "      <td> 77.103081</td>\n",
       "      <td>  -73.7789</td>\n",
       "      <td>...</td>\n",
       "      <td> New York John F. Kennedy International Airport</td>\n",
       "      <td> 2014-11-16</td>\n",
       "      <td>  Delhi</td>\n",
       "      <td> DEL</td>\n",
       "      <td> NaN</td>\n",
       "      <td> 11:35</td>\n",
       "      <td> Scheduled</td>\n",
       "      <td> 20:05</td>\n",
       "      <td> New York</td>\n",
       "      <td> JFK</td>\n",
       "    </tr>\n",
       "    <tr>\n",
       "      <th>4</th>\n",
       "      <td> -</td>\n",
       "      <td> -</td>\n",
       "      <td> [future, ]</td>\n",
       "      <td> 2014-11-16</td>\n",
       "      <td> </td>\n",
       "      <td> AI101</td>\n",
       "      <td> 19.08868</td>\n",
       "      <td>   28.5665</td>\n",
       "      <td> 72.867912</td>\n",
       "      <td> 77.103081</td>\n",
       "      <td>...</td>\n",
       "      <td>      Delhi Indira Gandhi International Airport</td>\n",
       "      <td> 2014-11-16</td>\n",
       "      <td> Mumbai</td>\n",
       "      <td> BOM</td>\n",
       "      <td> NaN</td>\n",
       "      <td> 18:15</td>\n",
       "      <td> Scheduled</td>\n",
       "      <td> 16:00</td>\n",
       "      <td>    Delhi</td>\n",
       "      <td> DEL</td>\n",
       "    </tr>\n",
       "    <tr>\n",
       "      <th>5</th>\n",
       "      <td> -</td>\n",
       "      <td> -</td>\n",
       "      <td> [future, ]</td>\n",
       "      <td> 2014-11-15</td>\n",
       "      <td> </td>\n",
       "      <td> AI101</td>\n",
       "      <td>  28.5665</td>\n",
       "      <td> 40.639751</td>\n",
       "      <td> 77.103081</td>\n",
       "      <td>  -73.7789</td>\n",
       "      <td>...</td>\n",
       "      <td> New York John F. Kennedy International Airport</td>\n",
       "      <td> 2014-11-15</td>\n",
       "      <td>  Delhi</td>\n",
       "      <td> DEL</td>\n",
       "      <td> NaN</td>\n",
       "      <td> 11:35</td>\n",
       "      <td> Scheduled</td>\n",
       "      <td> 20:05</td>\n",
       "      <td> New York</td>\n",
       "      <td> JFK</td>\n",
       "    </tr>\n",
       "    <tr>\n",
       "      <th>6</th>\n",
       "      <td> -</td>\n",
       "      <td> -</td>\n",
       "      <td> [future, ]</td>\n",
       "      <td> 2014-11-15</td>\n",
       "      <td> </td>\n",
       "      <td> AI101</td>\n",
       "      <td> 19.08868</td>\n",
       "      <td>   28.5665</td>\n",
       "      <td> 72.867912</td>\n",
       "      <td> 77.103081</td>\n",
       "      <td>...</td>\n",
       "      <td>      Delhi Indira Gandhi International Airport</td>\n",
       "      <td> 2014-11-15</td>\n",
       "      <td> Mumbai</td>\n",
       "      <td> BOM</td>\n",
       "      <td> NaN</td>\n",
       "      <td> 18:15</td>\n",
       "      <td> Scheduled</td>\n",
       "      <td> 16:00</td>\n",
       "      <td>    Delhi</td>\n",
       "      <td> DEL</td>\n",
       "    </tr>\n",
       "    <tr>\n",
       "      <th>7</th>\n",
       "      <td> -</td>\n",
       "      <td> -</td>\n",
       "      <td> [future, ]</td>\n",
       "      <td> 2014-11-14</td>\n",
       "      <td> </td>\n",
       "      <td> AI101</td>\n",
       "      <td>  28.5665</td>\n",
       "      <td> 40.639751</td>\n",
       "      <td> 77.103081</td>\n",
       "      <td>  -73.7789</td>\n",
       "      <td>...</td>\n",
       "      <td> New York John F. Kennedy International Airport</td>\n",
       "      <td> 2014-11-14</td>\n",
       "      <td>  Delhi</td>\n",
       "      <td> DEL</td>\n",
       "      <td> NaN</td>\n",
       "      <td> 11:35</td>\n",
       "      <td> Scheduled</td>\n",
       "      <td> 20:05</td>\n",
       "      <td> New York</td>\n",
       "      <td> JFK</td>\n",
       "    </tr>\n",
       "    <tr>\n",
       "      <th>8</th>\n",
       "      <td> -</td>\n",
       "      <td> -</td>\n",
       "      <td> [future, ]</td>\n",
       "      <td> 2014-11-14</td>\n",
       "      <td> </td>\n",
       "      <td> AI101</td>\n",
       "      <td> 19.08868</td>\n",
       "      <td>   28.5665</td>\n",
       "      <td> 72.867912</td>\n",
       "      <td> 77.103081</td>\n",
       "      <td>...</td>\n",
       "      <td>      Delhi Indira Gandhi International Airport</td>\n",
       "      <td> 2014-11-14</td>\n",
       "      <td> Mumbai</td>\n",
       "      <td> BOM</td>\n",
       "      <td> NaN</td>\n",
       "      <td> 18:15</td>\n",
       "      <td> Scheduled</td>\n",
       "      <td> 16:00</td>\n",
       "      <td>    Delhi</td>\n",
       "      <td> DEL</td>\n",
       "    </tr>\n",
       "    <tr>\n",
       "      <th>9</th>\n",
       "      <td> -</td>\n",
       "      <td> -</td>\n",
       "      <td> [future, ]</td>\n",
       "      <td> 2014-11-13</td>\n",
       "      <td> </td>\n",
       "      <td> AI101</td>\n",
       "      <td>  28.5665</td>\n",
       "      <td> 40.639751</td>\n",
       "      <td> 77.103081</td>\n",
       "      <td>  -73.7789</td>\n",
       "      <td>...</td>\n",
       "      <td> New York John F. Kennedy International Airport</td>\n",
       "      <td> 2014-11-13</td>\n",
       "      <td>  Delhi</td>\n",
       "      <td> DEL</td>\n",
       "      <td> NaN</td>\n",
       "      <td> 11:35</td>\n",
       "      <td> Scheduled</td>\n",
       "      <td> 20:05</td>\n",
       "      <td> New York</td>\n",
       "      <td> JFK</td>\n",
       "    </tr>\n",
       "  </tbody>\n",
       "</table>\n",
       "<p>10 rows \u00d7 21 columns</p>\n",
       "</div>"
      ],
      "text/plain": [
       "  aircraft atd       class   data-date data-flight data-flight-number  \\\n",
       "0        -   -  [future, ]  2014-11-18                          AI101   \n",
       "1        -   -  [future, ]  2014-11-17                          AI101   \n",
       "2        -   -  [future, ]  2014-11-17                          AI101   \n",
       "3        -   -  [future, ]  2014-11-16                          AI101   \n",
       "4        -   -  [future, ]  2014-11-16                          AI101   \n",
       "5        -   -  [future, ]  2014-11-15                          AI101   \n",
       "6        -   -  [future, ]  2014-11-15                          AI101   \n",
       "7        -   -  [future, ]  2014-11-14                          AI101   \n",
       "8        -   -  [future, ]  2014-11-14                          AI101   \n",
       "9        -   -  [future, ]  2014-11-13                          AI101   \n",
       "\n",
       "  data-lat-from data-lat-to data-lon-from data-lon-to   ...    \\\n",
       "0      19.08868     28.5665     72.867912   77.103081   ...     \n",
       "1       28.5665   40.639751     77.103081    -73.7789   ...     \n",
       "2      19.08868     28.5665     72.867912   77.103081   ...     \n",
       "3       28.5665   40.639751     77.103081    -73.7789   ...     \n",
       "4      19.08868     28.5665     72.867912   77.103081   ...     \n",
       "5       28.5665   40.639751     77.103081    -73.7789   ...     \n",
       "6      19.08868     28.5665     72.867912   77.103081   ...     \n",
       "7       28.5665   40.639751     77.103081    -73.7789   ...     \n",
       "8      19.08868     28.5665     72.867912   77.103081   ...     \n",
       "9       28.5665   40.639751     77.103081    -73.7789   ...     \n",
       "\n",
       "                                     data-name-to        date    from  \\\n",
       "0       Delhi Indira Gandhi International Airport  2014-11-18  Mumbai   \n",
       "1  New York John F. Kennedy International Airport  2014-11-17   Delhi   \n",
       "2       Delhi Indira Gandhi International Airport  2014-11-17  Mumbai   \n",
       "3  New York John F. Kennedy International Airport  2014-11-16   Delhi   \n",
       "4       Delhi Indira Gandhi International Airport  2014-11-16  Mumbai   \n",
       "5  New York John F. Kennedy International Airport  2014-11-15   Delhi   \n",
       "6       Delhi Indira Gandhi International Airport  2014-11-15  Mumbai   \n",
       "7  New York John F. Kennedy International Airport  2014-11-14   Delhi   \n",
       "8       Delhi Indira Gandhi International Airport  2014-11-14  Mumbai   \n",
       "9  New York John F. Kennedy International Airport  2014-11-13   Delhi   \n",
       "\n",
       "  from_code   id    sta     status    std        to to_code  \n",
       "0       BOM  NaN  18:15  Scheduled  16:00     Delhi     DEL  \n",
       "1       DEL  NaN  11:35  Scheduled  20:05  New York     JFK  \n",
       "2       BOM  NaN  18:15  Scheduled  16:00     Delhi     DEL  \n",
       "3       DEL  NaN  11:35  Scheduled  20:05  New York     JFK  \n",
       "4       BOM  NaN  18:15  Scheduled  16:00     Delhi     DEL  \n",
       "5       DEL  NaN  11:35  Scheduled  20:05  New York     JFK  \n",
       "6       BOM  NaN  18:15  Scheduled  16:00     Delhi     DEL  \n",
       "7       DEL  NaN  11:35  Scheduled  20:05  New York     JFK  \n",
       "8       BOM  NaN  18:15  Scheduled  16:00     Delhi     DEL  \n",
       "9       DEL  NaN  11:35  Scheduled  20:05  New York     JFK  \n",
       "\n",
       "[10 rows x 21 columns]"
      ]
     },
     "execution_count": 13,
     "metadata": {},
     "output_type": "execute_result"
    }
   ],
   "source": [
    "df.head(10)"
   ]
  },
  {
   "cell_type": "code",
   "execution_count": 14,
   "metadata": {
    "collapsed": false
   },
   "outputs": [
    {
     "data": {
      "text/plain": [
       "{'aircraft': '-',\n",
       " 'atd': '-',\n",
       " 'class': ['future', ''],\n",
       " 'data-date': '2014-11-18',\n",
       " 'data-flight': '',\n",
       " 'data-flight-number': 'AI101',\n",
       " 'data-lat-from': '19.08868',\n",
       " 'data-lat-to': '28.5665',\n",
       " 'data-lon-from': '72.867912',\n",
       " 'data-lon-to': '77.103081',\n",
       " 'data-name-from': 'Mumbai Chhatrapati Shivaji International Airport',\n",
       " 'data-name-to': 'Delhi Indira Gandhi International Airport',\n",
       " 'date': '2014-11-18',\n",
       " 'from': 'Mumbai',\n",
       " 'from_code': 'BOM',\n",
       " 'sta': '18:15',\n",
       " 'status': 'Scheduled',\n",
       " 'std': '16:00',\n",
       " 'to': 'Delhi',\n",
       " 'to_code': 'DEL'}"
      ]
     },
     "execution_count": 14,
     "metadata": {},
     "output_type": "execute_result"
    }
   ],
   "source": [
    "hist_by_flt[0]"
   ]
  },
  {
   "cell_type": "code",
   "execution_count": 15,
   "metadata": {
    "collapsed": false
   },
   "outputs": [
    {
     "data": {
      "text/plain": [
       "0     -\n",
       "1     -\n",
       "2     -\n",
       "3     -\n",
       "4     -\n",
       "5     -\n",
       "6     -\n",
       "7     -\n",
       "8     -\n",
       "9     -\n",
       "10    -\n",
       "11    -\n",
       "12    -\n",
       "13    -\n",
       "14    -\n",
       "...\n",
       "246    B77W (VT-ALP)\n",
       "247    B77W (VT-ALU)\n",
       "248    B77W (VT-ALU)\n",
       "249    B77W (VT-ALN)\n",
       "250    B77L (VT-ALF)\n",
       "251    B77W (VT-ALK)\n",
       "252    B77W (VT-ALK)\n",
       "253    B77W (VT-ALJ)\n",
       "254    B77W (VT-ALM)\n",
       "255                -\n",
       "256    B77W (VT-ALL)\n",
       "257    B77W (VT-ALR)\n",
       "258    B77W (VT-ALR)\n",
       "259    B77W (VT-ALS)\n",
       "260    B77W (VT-ALQ)\n",
       "Name: aircraft, Length: 261, dtype: object"
      ]
     },
     "execution_count": 15,
     "metadata": {},
     "output_type": "execute_result"
    }
   ],
   "source": [
    "df['aircraft']"
   ]
  },
  {
   "cell_type": "code",
   "execution_count": 16,
   "metadata": {
    "collapsed": false
   },
   "outputs": [],
   "source": [
    "hist_by_tail = get_history_by_tail_number('VT-ALQ')"
   ]
  },
  {
   "cell_type": "code",
   "execution_count": 17,
   "metadata": {
    "collapsed": false
   },
   "outputs": [
    {
     "data": {
      "text/html": [
       "<div style=\"max-height:1000px;max-width:1500px;overflow:auto;\">\n",
       "<table border=\"1\" class=\"dataframe\">\n",
       "  <thead>\n",
       "    <tr style=\"text-align: right;\">\n",
       "      <th></th>\n",
       "      <th>atd</th>\n",
       "      <th>class</th>\n",
       "      <th>data-date</th>\n",
       "      <th>data-flight</th>\n",
       "      <th>data-flight-number</th>\n",
       "      <th>data-lat-from</th>\n",
       "      <th>data-lat-to</th>\n",
       "      <th>data-lon-from</th>\n",
       "      <th>data-lon-to</th>\n",
       "      <th>data-name-from</th>\n",
       "      <th>...</th>\n",
       "      <th>date</th>\n",
       "      <th>flight</th>\n",
       "      <th>from</th>\n",
       "      <th>from_code</th>\n",
       "      <th>id</th>\n",
       "      <th>sta</th>\n",
       "      <th>status</th>\n",
       "      <th>std</th>\n",
       "      <th>to</th>\n",
       "      <th>to_code</th>\n",
       "    </tr>\n",
       "  </thead>\n",
       "  <tbody>\n",
       "    <tr>\n",
       "      <th>0</th>\n",
       "      <td> 20:49</td>\n",
       "      <td> [, ]</td>\n",
       "      <td> 2014-11-09</td>\n",
       "      <td> 80110538</td>\n",
       "      <td> </td>\n",
       "      <td>   28.5665</td>\n",
       "      <td> 41.978142</td>\n",
       "      <td> 77.103081</td>\n",
       "      <td>  -87.9058</td>\n",
       "      <td>    Delhi Indira Gandhi International Airport</td>\n",
       "      <td>...</td>\n",
       "      <td> 2014-11-09</td>\n",
       "      <td> AI127</td>\n",
       "      <td>     Delhi</td>\n",
       "      <td> DEL</td>\n",
       "      <td> flight-4c663ca</td>\n",
       "      <td> 12:30</td>\n",
       "      <td> Landed 12:04</td>\n",
       "      <td> 20:30</td>\n",
       "      <td>   Chicago</td>\n",
       "      <td> ORD</td>\n",
       "    </tr>\n",
       "    <tr>\n",
       "      <th>1</th>\n",
       "      <td> 15:27</td>\n",
       "      <td> [, ]</td>\n",
       "      <td> 2014-11-09</td>\n",
       "      <td> 80073479</td>\n",
       "      <td> </td>\n",
       "      <td>    17.254</td>\n",
       "      <td>   28.5665</td>\n",
       "      <td>    78.431</td>\n",
       "      <td> 77.103081</td>\n",
       "      <td> Hyderabad Rajiv Gandhi International Airport</td>\n",
       "      <td>...</td>\n",
       "      <td> 2014-11-09</td>\n",
       "      <td> AI127</td>\n",
       "      <td> Hyderabad</td>\n",
       "      <td> HYD</td>\n",
       "      <td> flight-4c5d307</td>\n",
       "      <td> 17:40</td>\n",
       "      <td> Landed 17:03</td>\n",
       "      <td> 15:25</td>\n",
       "      <td>     Delhi</td>\n",
       "      <td> DEL</td>\n",
       "    </tr>\n",
       "    <tr>\n",
       "      <th>2</th>\n",
       "      <td> 11:53</td>\n",
       "      <td> [, ]</td>\n",
       "      <td> 2014-11-09</td>\n",
       "      <td> 80053077</td>\n",
       "      <td> </td>\n",
       "      <td>   28.5665</td>\n",
       "      <td>    17.254</td>\n",
       "      <td> 77.103081</td>\n",
       "      <td>    78.431</td>\n",
       "      <td>    Delhi Indira Gandhi International Airport</td>\n",
       "      <td>...</td>\n",
       "      <td> 2014-11-09</td>\n",
       "      <td> AI126</td>\n",
       "      <td>     Delhi</td>\n",
       "      <td> DEL</td>\n",
       "      <td> flight-4c58355</td>\n",
       "      <td> 13:45</td>\n",
       "      <td> Landed 13:37</td>\n",
       "      <td> 11:30</td>\n",
       "      <td> Hyderabad</td>\n",
       "      <td> HYD</td>\n",
       "    </tr>\n",
       "    <tr>\n",
       "      <th>3</th>\n",
       "      <td> 19:35</td>\n",
       "      <td> [, ]</td>\n",
       "      <td> 2014-11-08</td>\n",
       "      <td> 79986880</td>\n",
       "      <td> </td>\n",
       "      <td> 41.978142</td>\n",
       "      <td>   28.5665</td>\n",
       "      <td>  -87.9058</td>\n",
       "      <td> 77.103081</td>\n",
       "      <td>         Chicago O'Hare International Airport</td>\n",
       "      <td>...</td>\n",
       "      <td> 2014-11-08</td>\n",
       "      <td> AI126</td>\n",
       "      <td>   Chicago</td>\n",
       "      <td> ORD</td>\n",
       "      <td> flight-4c480c0</td>\n",
       "      <td> 09:55</td>\n",
       "      <td> Landed 09:22</td>\n",
       "      <td> 19:30</td>\n",
       "      <td>     Delhi</td>\n",
       "      <td> DEL</td>\n",
       "    </tr>\n",
       "    <tr>\n",
       "      <th>4</th>\n",
       "      <td> 20:51</td>\n",
       "      <td> [, ]</td>\n",
       "      <td> 2014-11-07</td>\n",
       "      <td> 79870289</td>\n",
       "      <td> </td>\n",
       "      <td>   28.5665</td>\n",
       "      <td> 41.978142</td>\n",
       "      <td> 77.103081</td>\n",
       "      <td>  -87.9058</td>\n",
       "      <td>    Delhi Indira Gandhi International Airport</td>\n",
       "      <td>...</td>\n",
       "      <td> 2014-11-07</td>\n",
       "      <td> AI127</td>\n",
       "      <td>     Delhi</td>\n",
       "      <td> DEL</td>\n",
       "      <td> flight-4c2b951</td>\n",
       "      <td> 12:30</td>\n",
       "      <td> Landed 12:23</td>\n",
       "      <td> 20:30</td>\n",
       "      <td>   Chicago</td>\n",
       "      <td> ORD</td>\n",
       "    </tr>\n",
       "  </tbody>\n",
       "</table>\n",
       "<p>5 rows \u00d7 21 columns</p>\n",
       "</div>"
      ],
      "text/plain": [
       "     atd class   data-date data-flight data-flight-number data-lat-from  \\\n",
       "0  20:49  [, ]  2014-11-09    80110538                          28.5665   \n",
       "1  15:27  [, ]  2014-11-09    80073479                           17.254   \n",
       "2  11:53  [, ]  2014-11-09    80053077                          28.5665   \n",
       "3  19:35  [, ]  2014-11-08    79986880                        41.978142   \n",
       "4  20:51  [, ]  2014-11-07    79870289                          28.5665   \n",
       "\n",
       "  data-lat-to data-lon-from data-lon-to  \\\n",
       "0   41.978142     77.103081    -87.9058   \n",
       "1     28.5665        78.431   77.103081   \n",
       "2      17.254     77.103081      78.431   \n",
       "3     28.5665      -87.9058   77.103081   \n",
       "4   41.978142     77.103081    -87.9058   \n",
       "\n",
       "                                 data-name-from   ...          date flight  \\\n",
       "0     Delhi Indira Gandhi International Airport   ...    2014-11-09  AI127   \n",
       "1  Hyderabad Rajiv Gandhi International Airport   ...    2014-11-09  AI127   \n",
       "2     Delhi Indira Gandhi International Airport   ...    2014-11-09  AI126   \n",
       "3          Chicago O'Hare International Airport   ...    2014-11-08  AI126   \n",
       "4     Delhi Indira Gandhi International Airport   ...    2014-11-07  AI127   \n",
       "\n",
       "        from from_code              id    sta        status    std         to  \\\n",
       "0      Delhi       DEL  flight-4c663ca  12:30  Landed 12:04  20:30    Chicago   \n",
       "1  Hyderabad       HYD  flight-4c5d307  17:40  Landed 17:03  15:25      Delhi   \n",
       "2      Delhi       DEL  flight-4c58355  13:45  Landed 13:37  11:30  Hyderabad   \n",
       "3    Chicago       ORD  flight-4c480c0  09:55  Landed 09:22  19:30      Delhi   \n",
       "4      Delhi       DEL  flight-4c2b951  12:30  Landed 12:23  20:30    Chicago   \n",
       "\n",
       "  to_code  \n",
       "0     ORD  \n",
       "1     DEL  \n",
       "2     HYD  \n",
       "3     DEL  \n",
       "4     ORD  \n",
       "\n",
       "[5 rows x 21 columns]"
      ]
     },
     "execution_count": 17,
     "metadata": {},
     "output_type": "execute_result"
    }
   ],
   "source": [
    "df1 = pandas.DataFrame(hist_by_tail)\n",
    "df1.head()"
   ]
  },
  {
   "cell_type": "code",
   "execution_count": 18,
   "metadata": {
    "collapsed": false
   },
   "outputs": [
    {
     "data": {
      "text/plain": [
       "0     AI127\n",
       "1     AI127\n",
       "2     AI126\n",
       "3     AI126\n",
       "4     AI127\n",
       "5     AI127\n",
       "6     AI126\n",
       "7     AI126\n",
       "8     AI127\n",
       "9     AI127\n",
       "10    AI126\n",
       "11    AI102\n",
       "12    AI101\n",
       "13    AI127\n",
       "Name: flight, dtype: object"
      ]
     },
     "execution_count": 18,
     "metadata": {},
     "output_type": "execute_result"
    }
   ],
   "source": [
    "df1['flight']"
   ]
  },
  {
   "cell_type": "markdown",
   "metadata": {},
   "source": [
    "Getting the list of airlines and their fleets and flight numbers\n",
    "================================================================\n",
    "\n",
    "You can also get the list of airlines and the fleet information, as well as all the flight numbers. This can then feed into the other methods to get the details by tail number or by the flight number.\n"
   ]
  },
  {
   "cell_type": "code",
   "execution_count": 19,
   "metadata": {
    "collapsed": false
   },
   "outputs": [],
   "source": [
    "airlines = get_airlines()"
   ]
  },
  {
   "cell_type": "markdown",
   "metadata": {},
   "source": [
    "You can see airline name and code and also the logo (where available). The key field should be used to get the fleet information and the flight numbers for that airline."
   ]
  },
  {
   "cell_type": "code",
   "execution_count": 46,
   "metadata": {
    "collapsed": false
   },
   "outputs": [
    {
     "data": {
      "text/plain": [
       "{'iata': 'AC',\n",
       " 'icao': 'ACA',\n",
       " 'image': 'http://www.flightradar24.com/data/images/operators/ACA.gif',\n",
       " 'key': 'air-canada-aca',\n",
       " 'name': 'Air Canada'}"
      ]
     },
     "execution_count": 46,
     "metadata": {},
     "output_type": "execute_result"
    }
   ],
   "source": [
    "airline = airlines[31]\n",
    "airline"
   ]
  },
  {
   "cell_type": "code",
   "execution_count": 47,
   "metadata": {
    "collapsed": false
   },
   "outputs": [
    {
     "data": {
      "text/html": [
       "<img src=\"http://www.flightradar24.com/data/images/operators/ACA.gif\"/>"
      ],
      "text/plain": [
       "<IPython.core.display.Image object>"
      ]
     },
     "execution_count": 47,
     "metadata": {},
     "output_type": "execute_result"
    }
   ],
   "source": [
    "Image(url=airline['image'])"
   ]
  },
  {
   "cell_type": "code",
   "execution_count": 22,
   "metadata": {
    "collapsed": false
   },
   "outputs": [
    {
     "data": {
      "text/plain": [
       "['D-ABEA',\n",
       " 'D-ABEB',\n",
       " 'D-ABEC',\n",
       " 'D-ABED',\n",
       " 'D-ABEE',\n",
       " 'D-ABEF',\n",
       " 'D-ABEH',\n",
       " 'D-ABEI',\n",
       " 'D-ABEK',\n",
       " 'D-ABEL']"
      ]
     },
     "execution_count": 22,
     "metadata": {},
     "output_type": "execute_result"
    }
   ],
   "source": [
    "fleet = get_fleet('lufthansa-dlh')\n",
    "fleet[:10]"
   ]
  },
  {
   "cell_type": "markdown",
   "metadata": {},
   "source": [
    "Once you have the fleet information, you can query more data "
   ]
  },
  {
   "cell_type": "code",
   "execution_count": 23,
   "metadata": {
    "collapsed": false
   },
   "outputs": [],
   "source": [
    "info = get_info_by_tail_number('JA02AN')"
   ]
  },
  {
   "cell_type": "code",
   "execution_count": 49,
   "metadata": {
    "collapsed": false
   },
   "outputs": [
    {
     "data": {
      "text/html": [
       "<img src=\"http://img.planespotters.net/photo/449000/thumbnail/PlanespottersNet_449113.jpg\"/>"
      ],
      "text/plain": [
       "<IPython.core.display.Image object>"
      ]
     },
     "execution_count": 49,
     "metadata": {},
     "output_type": "execute_result"
    }
   ],
   "source": [
    "Image(url=info['images'][0])"
   ]
  },
  {
   "cell_type": "code",
   "execution_count": 25,
   "metadata": {
    "collapsed": false
   },
   "outputs": [
    {
     "data": {
      "text/plain": [
       "{'Airline': u'All Nippon Airways',\n",
       " 'ModeS': u'840888',\n",
       " 'Registration': u'JA02AN',\n",
       " 'S/N': u'33872',\n",
       " 'Type': u'Boeing 737-781',\n",
       " 'Type code': u'B737',\n",
       " 'images': ['http://img.planespotters.net/photo/449000/thumbnail/PlanespottersNet_449113.jpg',\n",
       "  'http://img.planespotters.net/photo/404000/thumbnail/PlanespottersNet_404932.jpg',\n",
       "  'http://img.planespotters.net/photo/389000/thumbnail/PlanespottersNet_389537.jpg']}"
      ]
     },
     "execution_count": 25,
     "metadata": {},
     "output_type": "execute_result"
    }
   ],
   "source": [
    "info"
   ]
  },
  {
   "cell_type": "code",
   "execution_count": 26,
   "metadata": {
    "collapsed": false
   },
   "outputs": [
    {
     "data": {
      "text/plain": [
       "[{'atd': '12:34',\n",
       "  'class': ['', 'live'],\n",
       "  'data-date': '2014-11-10',\n",
       "  'data-flight': '80188453',\n",
       "  'data-flight-number': '',\n",
       "  'data-lat-from': '34.85841',\n",
       "  'data-lat-to': '31.14337',\n",
       "  'data-lon-from': '136.805405',\n",
       "  'data-lon-to': '121.805199',\n",
       "  'data-name-from': 'Nagoya Chubu Centrair International Airport',\n",
       "  'data-name-to': 'Shanghai Pudong International Airport',\n",
       "  'date': '2014-11-10',\n",
       "  'flight': 'NH939',\n",
       "  'from': 'Nagoya',\n",
       "  'from_code': 'NGO',\n",
       "  'id': 'flight-4c79425',\n",
       "  'sta': '15:20',\n",
       "  'status': 'Estimated 14:47',\n",
       "  'std': '12:25',\n",
       "  'to': 'Shanghai',\n",
       "  'to_code': 'PVG'},\n",
       " {'atd': '06:57',\n",
       "  'class': ['', ''],\n",
       "  'data-date': '2014-11-10',\n",
       "  'data-flight': '80163288',\n",
       "  'data-flight-number': '',\n",
       "  'data-lat-from': '22.30888',\n",
       "  'data-lat-to': '34.85841',\n",
       "  'data-lon-from': '113.914703',\n",
       "  'data-lon-to': '136.805405',\n",
       "  'data-name-from': 'Hong Kong International Airport',\n",
       "  'data-name-to': 'Nagoya Chubu Centrair International Airport',\n",
       "  'date': '2014-11-10',\n",
       "  'flight': 'NH1242',\n",
       "  'from': 'Hong Kong',\n",
       "  'from_code': 'HKG',\n",
       "  'id': 'flight-4c731d8',\n",
       "  'sta': '10:10',\n",
       "  'status': 'Landed 10:15',\n",
       "  'std': '06:35',\n",
       "  'to': 'Nagoya',\n",
       "  'to_code': 'NGO'},\n",
       " {'atd': '00:42',\n",
       "  'class': ['', ''],\n",
       "  'data-date': '2014-11-10',\n",
       "  'data-flight': '80138868',\n",
       "  'data-flight-number': '',\n",
       "  'data-lat-from': '34.85841',\n",
       "  'data-lat-to': '22.30888',\n",
       "  'data-lon-from': '136.805405',\n",
       "  'data-lon-to': '113.914703',\n",
       "  'data-name-from': 'Nagoya Chubu Centrair International Airport',\n",
       "  'data-name-to': 'Hong Kong International Airport',\n",
       "  'date': '2014-11-10',\n",
       "  'flight': 'NH1241',\n",
       "  'from': 'Nagoya',\n",
       "  'from_code': 'NGO',\n",
       "  'id': 'flight-4c6d274',\n",
       "  'sta': '05:20',\n",
       "  'status': 'Landed 04:50',\n",
       "  'std': '00:30',\n",
       "  'to': 'Hong Kong',\n",
       "  'to_code': 'HKG'}]"
      ]
     },
     "execution_count": 26,
     "metadata": {},
     "output_type": "execute_result"
    }
   ],
   "source": [
    "get_history_by_tail_number('JA02AN')[:3]"
   ]
  },
  {
   "cell_type": "code",
   "execution_count": 27,
   "metadata": {
    "collapsed": false
   },
   "outputs": [],
   "source": [
    "flights = get_flights(airline['key'])"
   ]
  },
  {
   "cell_type": "code",
   "execution_count": 28,
   "metadata": {
    "collapsed": false
   },
   "outputs": [
    {
     "data": {
      "text/plain": [
       "['NH1',\n",
       " 'NH10',\n",
       " 'NH100',\n",
       " 'NH1000',\n",
       " 'NH1005',\n",
       " 'NH1006',\n",
       " 'NH1009',\n",
       " 'NH1010',\n",
       " 'NH1011',\n",
       " 'NH1012']"
      ]
     },
     "execution_count": 28,
     "metadata": {},
     "output_type": "execute_result"
    }
   ],
   "source": [
    "flights[:10]"
   ]
  },
  {
   "cell_type": "code",
   "execution_count": 29,
   "metadata": {
    "collapsed": false
   },
   "outputs": [
    {
     "data": {
      "text/plain": [
       "[{'aircraft': '-',\n",
       "  'atd': '-',\n",
       "  'class': ['future', ''],\n",
       "  'data-date': '2014-11-18',\n",
       "  'data-flight': '',\n",
       "  'data-flight-number': 'NH1',\n",
       "  'data-lat-from': '38.947441',\n",
       "  'data-lat-to': '35.764721',\n",
       "  'data-lon-from': '-77.4599',\n",
       "  'data-lon-to': '140.386307',\n",
       "  'data-name-from': 'Washington Dulles International Airport',\n",
       "  'data-name-to': 'Tokyo Narita International Airport',\n",
       "  'date': '2014-11-18',\n",
       "  'from': 'Washington',\n",
       "  'from_code': 'IAD',\n",
       "  'sta': '06:25',\n",
       "  'status': 'Scheduled',\n",
       "  'std': '16:15',\n",
       "  'to': 'Tokyo',\n",
       "  'to_code': 'NRT'},\n",
       " {'aircraft': '-',\n",
       "  'atd': '-',\n",
       "  'class': ['future', ''],\n",
       "  'data-date': '2014-11-17',\n",
       "  'data-flight': '',\n",
       "  'data-flight-number': 'NH1',\n",
       "  'data-lat-from': '38.947441',\n",
       "  'data-lat-to': '35.764721',\n",
       "  'data-lon-from': '-77.4599',\n",
       "  'data-lon-to': '140.386307',\n",
       "  'data-name-from': 'Washington Dulles International Airport',\n",
       "  'data-name-to': 'Tokyo Narita International Airport',\n",
       "  'date': '2014-11-17',\n",
       "  'from': 'Washington',\n",
       "  'from_code': 'IAD',\n",
       "  'sta': '06:25',\n",
       "  'status': 'Scheduled',\n",
       "  'std': '16:15',\n",
       "  'to': 'Tokyo',\n",
       "  'to_code': 'NRT'},\n",
       " {'aircraft': '-',\n",
       "  'atd': '-',\n",
       "  'class': ['future', ''],\n",
       "  'data-date': '2014-11-16',\n",
       "  'data-flight': '',\n",
       "  'data-flight-number': 'NH1',\n",
       "  'data-lat-from': '38.947441',\n",
       "  'data-lat-to': '35.764721',\n",
       "  'data-lon-from': '-77.4599',\n",
       "  'data-lon-to': '140.386307',\n",
       "  'data-name-from': 'Washington Dulles International Airport',\n",
       "  'data-name-to': 'Tokyo Narita International Airport',\n",
       "  'date': '2014-11-16',\n",
       "  'from': 'Washington',\n",
       "  'from_code': 'IAD',\n",
       "  'sta': '06:25',\n",
       "  'status': 'Scheduled',\n",
       "  'std': '16:15',\n",
       "  'to': 'Tokyo',\n",
       "  'to_code': 'NRT'}]"
      ]
     },
     "execution_count": 29,
     "metadata": {},
     "output_type": "execute_result"
    }
   ],
   "source": [
    "get_history_by_flight_number('NH1')[:3]"
   ]
  }
 ],
 "metadata": {
  "kernelspec": {
   "display_name": "IPython (Python 2)",
   "name": "python2"
  },
  "language_info": {
   "codemirror_mode": {
    "name": "ipython",
    "version": 2
   },
   "mimetype": "text/x-python",
   "name": "python",
   "pygments_lexer": "ipython2"
  },
  "signature": "sha256:c8001e4f16c4b9e7352eb8ee9ac9a8130c888ade495a3bccbdb6a33d6ee6561d"
 },
 "nbformat": 4,
 "nbformat_minor": 0
}